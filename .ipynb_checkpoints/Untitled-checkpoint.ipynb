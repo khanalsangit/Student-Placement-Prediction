{
 "cells": [
  {
   "cell_type": "code",
   "execution_count": 1,
   "id": "460f27e3",
   "metadata": {},
   "outputs": [],
   "source": [
    "import pandas as pd"
   ]
  },
  {
   "cell_type": "code",
   "execution_count": null,
   "id": "e20b0fa1",
   "metadata": {},
   "outputs": [],
   "source": [
    "# reading the dataset using pandas"
   ]
  },
  {
   "cell_type": "code",
   "execution_count": 2,
   "id": "8459e084",
   "metadata": {},
   "outputs": [
    {
     "data": {
      "text/html": [
       "<div>\n",
       "<style scoped>\n",
       "    .dataframe tbody tr th:only-of-type {\n",
       "        vertical-align: middle;\n",
       "    }\n",
       "\n",
       "    .dataframe tbody tr th {\n",
       "        vertical-align: top;\n",
       "    }\n",
       "\n",
       "    .dataframe thead th {\n",
       "        text-align: right;\n",
       "    }\n",
       "</style>\n",
       "<table border=\"1\" class=\"dataframe\">\n",
       "  <thead>\n",
       "    <tr style=\"text-align: right;\">\n",
       "      <th></th>\n",
       "      <th>Unnamed: 0</th>\n",
       "      <th>cgpa</th>\n",
       "      <th>iq</th>\n",
       "      <th>placement</th>\n",
       "    </tr>\n",
       "  </thead>\n",
       "  <tbody>\n",
       "    <tr>\n",
       "      <th>0</th>\n",
       "      <td>0</td>\n",
       "      <td>6.8</td>\n",
       "      <td>123.0</td>\n",
       "      <td>1</td>\n",
       "    </tr>\n",
       "    <tr>\n",
       "      <th>1</th>\n",
       "      <td>1</td>\n",
       "      <td>5.9</td>\n",
       "      <td>106.0</td>\n",
       "      <td>0</td>\n",
       "    </tr>\n",
       "    <tr>\n",
       "      <th>2</th>\n",
       "      <td>2</td>\n",
       "      <td>5.3</td>\n",
       "      <td>121.0</td>\n",
       "      <td>0</td>\n",
       "    </tr>\n",
       "    <tr>\n",
       "      <th>3</th>\n",
       "      <td>3</td>\n",
       "      <td>7.4</td>\n",
       "      <td>132.0</td>\n",
       "      <td>1</td>\n",
       "    </tr>\n",
       "    <tr>\n",
       "      <th>4</th>\n",
       "      <td>4</td>\n",
       "      <td>5.8</td>\n",
       "      <td>142.0</td>\n",
       "      <td>0</td>\n",
       "    </tr>\n",
       "    <tr>\n",
       "      <th>...</th>\n",
       "      <td>...</td>\n",
       "      <td>...</td>\n",
       "      <td>...</td>\n",
       "      <td>...</td>\n",
       "    </tr>\n",
       "    <tr>\n",
       "      <th>95</th>\n",
       "      <td>95</td>\n",
       "      <td>4.3</td>\n",
       "      <td>200.0</td>\n",
       "      <td>0</td>\n",
       "    </tr>\n",
       "    <tr>\n",
       "      <th>96</th>\n",
       "      <td>96</td>\n",
       "      <td>4.4</td>\n",
       "      <td>42.0</td>\n",
       "      <td>0</td>\n",
       "    </tr>\n",
       "    <tr>\n",
       "      <th>97</th>\n",
       "      <td>97</td>\n",
       "      <td>6.7</td>\n",
       "      <td>182.0</td>\n",
       "      <td>1</td>\n",
       "    </tr>\n",
       "    <tr>\n",
       "      <th>98</th>\n",
       "      <td>98</td>\n",
       "      <td>6.3</td>\n",
       "      <td>103.0</td>\n",
       "      <td>1</td>\n",
       "    </tr>\n",
       "    <tr>\n",
       "      <th>99</th>\n",
       "      <td>99</td>\n",
       "      <td>6.2</td>\n",
       "      <td>113.0</td>\n",
       "      <td>1</td>\n",
       "    </tr>\n",
       "  </tbody>\n",
       "</table>\n",
       "<p>100 rows × 4 columns</p>\n",
       "</div>"
      ],
      "text/plain": [
       "    Unnamed: 0  cgpa     iq  placement\n",
       "0            0   6.8  123.0          1\n",
       "1            1   5.9  106.0          0\n",
       "2            2   5.3  121.0          0\n",
       "3            3   7.4  132.0          1\n",
       "4            4   5.8  142.0          0\n",
       "..         ...   ...    ...        ...\n",
       "95          95   4.3  200.0          0\n",
       "96          96   4.4   42.0          0\n",
       "97          97   6.7  182.0          1\n",
       "98          98   6.3  103.0          1\n",
       "99          99   6.2  113.0          1\n",
       "\n",
       "[100 rows x 4 columns]"
      ]
     },
     "execution_count": 2,
     "metadata": {},
     "output_type": "execute_result"
    }
   ],
   "source": [
    "dataset=pd.read_csv('/stepo/python/placement.csv')\n",
    "dataset"
   ]
  },
  {
   "cell_type": "code",
   "execution_count": 9,
   "id": "ad0c922b",
   "metadata": {},
   "outputs": [
    {
     "data": {
      "text/plain": [
       "(100, 4)"
      ]
     },
     "execution_count": 9,
     "metadata": {},
     "output_type": "execute_result"
    }
   ],
   "source": [
    "dataset.shape"
   ]
  },
  {
   "cell_type": "code",
   "execution_count": 3,
   "id": "caf30529",
   "metadata": {},
   "outputs": [
    {
     "data": {
      "text/html": [
       "<div>\n",
       "<style scoped>\n",
       "    .dataframe tbody tr th:only-of-type {\n",
       "        vertical-align: middle;\n",
       "    }\n",
       "\n",
       "    .dataframe tbody tr th {\n",
       "        vertical-align: top;\n",
       "    }\n",
       "\n",
       "    .dataframe thead th {\n",
       "        text-align: right;\n",
       "    }\n",
       "</style>\n",
       "<table border=\"1\" class=\"dataframe\">\n",
       "  <thead>\n",
       "    <tr style=\"text-align: right;\">\n",
       "      <th></th>\n",
       "      <th>cgpa</th>\n",
       "      <th>iq</th>\n",
       "      <th>placement</th>\n",
       "    </tr>\n",
       "  </thead>\n",
       "  <tbody>\n",
       "    <tr>\n",
       "      <th>0</th>\n",
       "      <td>6.8</td>\n",
       "      <td>123.0</td>\n",
       "      <td>1</td>\n",
       "    </tr>\n",
       "    <tr>\n",
       "      <th>1</th>\n",
       "      <td>5.9</td>\n",
       "      <td>106.0</td>\n",
       "      <td>0</td>\n",
       "    </tr>\n",
       "    <tr>\n",
       "      <th>2</th>\n",
       "      <td>5.3</td>\n",
       "      <td>121.0</td>\n",
       "      <td>0</td>\n",
       "    </tr>\n",
       "    <tr>\n",
       "      <th>3</th>\n",
       "      <td>7.4</td>\n",
       "      <td>132.0</td>\n",
       "      <td>1</td>\n",
       "    </tr>\n",
       "    <tr>\n",
       "      <th>4</th>\n",
       "      <td>5.8</td>\n",
       "      <td>142.0</td>\n",
       "      <td>0</td>\n",
       "    </tr>\n",
       "    <tr>\n",
       "      <th>...</th>\n",
       "      <td>...</td>\n",
       "      <td>...</td>\n",
       "      <td>...</td>\n",
       "    </tr>\n",
       "    <tr>\n",
       "      <th>95</th>\n",
       "      <td>4.3</td>\n",
       "      <td>200.0</td>\n",
       "      <td>0</td>\n",
       "    </tr>\n",
       "    <tr>\n",
       "      <th>96</th>\n",
       "      <td>4.4</td>\n",
       "      <td>42.0</td>\n",
       "      <td>0</td>\n",
       "    </tr>\n",
       "    <tr>\n",
       "      <th>97</th>\n",
       "      <td>6.7</td>\n",
       "      <td>182.0</td>\n",
       "      <td>1</td>\n",
       "    </tr>\n",
       "    <tr>\n",
       "      <th>98</th>\n",
       "      <td>6.3</td>\n",
       "      <td>103.0</td>\n",
       "      <td>1</td>\n",
       "    </tr>\n",
       "    <tr>\n",
       "      <th>99</th>\n",
       "      <td>6.2</td>\n",
       "      <td>113.0</td>\n",
       "      <td>1</td>\n",
       "    </tr>\n",
       "  </tbody>\n",
       "</table>\n",
       "<p>100 rows × 3 columns</p>\n",
       "</div>"
      ],
      "text/plain": [
       "    cgpa     iq  placement\n",
       "0    6.8  123.0          1\n",
       "1    5.9  106.0          0\n",
       "2    5.3  121.0          0\n",
       "3    7.4  132.0          1\n",
       "4    5.8  142.0          0\n",
       "..   ...    ...        ...\n",
       "95   4.3  200.0          0\n",
       "96   4.4   42.0          0\n",
       "97   6.7  182.0          1\n",
       "98   6.3  103.0          1\n",
       "99   6.2  113.0          1\n",
       "\n",
       "[100 rows x 3 columns]"
      ]
     },
     "execution_count": 3,
     "metadata": {},
     "output_type": "execute_result"
    }
   ],
   "source": [
    "#preprocessing the dataset remove unwanted column \n",
    "dataset=dataset.iloc[:,1:]\n",
    "dataset"
   ]
  },
  {
   "cell_type": "code",
   "execution_count": 17,
   "id": "bcb82b27",
   "metadata": {},
   "outputs": [
    {
     "data": {
      "text/plain": [
       "cgpa         0\n",
       "iq           0\n",
       "placement    0\n",
       "dtype: int64"
      ]
     },
     "execution_count": 17,
     "metadata": {},
     "output_type": "execute_result"
    }
   ],
   "source": [
    "# checking of null value in dataset\n",
    "dataset.isnull().sum()"
   ]
  },
  {
   "cell_type": "code",
   "execution_count": 4,
   "id": "83b4f87d",
   "metadata": {},
   "outputs": [
    {
     "data": {
      "text/plain": [
       "<matplotlib.collections.PathCollection at 0x17d5fca5300>"
      ]
     },
     "execution_count": 4,
     "metadata": {},
     "output_type": "execute_result"
    },
    {
     "data": {
      "image/png": "[encoded data removed]",
      "text/plain": [
       "<Figure size 432x288 with 1 Axes>"
      ]
     },
     "metadata": {
      "needs_background": "light"
     },
     "output_type": "display_data"
    }
   ],
   "source": [
    "# visualization of data\n",
    "import matplotlib.pyplot as plt\n",
    "plt.scatter(dataset['cgpa'],dataset['iq'],c=dataset['placement'])"
   ]
  },
  {
   "cell_type": "code",
   "execution_count": 5,
   "id": "c60436cc",
   "metadata": {},
   "outputs": [
    {
     "data": {
      "text/html": [
       "<div>\n",
       "<style scoped>\n",
       "    .dataframe tbody tr th:only-of-type {\n",
       "        vertical-align: middle;\n",
       "    }\n",
       "\n",
       "    .dataframe tbody tr th {\n",
       "        vertical-align: top;\n",
       "    }\n",
       "\n",
       "    .dataframe thead th {\n",
       "        text-align: right;\n",
       "    }\n",
       "</style>\n",
       "<table border=\"1\" class=\"dataframe\">\n",
       "  <thead>\n",
       "    <tr style=\"text-align: right;\">\n",
       "      <th></th>\n",
       "      <th>cgpa</th>\n",
       "      <th>iq</th>\n",
       "    </tr>\n",
       "  </thead>\n",
       "  <tbody>\n",
       "    <tr>\n",
       "      <th>0</th>\n",
       "      <td>6.8</td>\n",
       "      <td>123.0</td>\n",
       "    </tr>\n",
       "    <tr>\n",
       "      <th>1</th>\n",
       "      <td>5.9</td>\n",
       "      <td>106.0</td>\n",
       "    </tr>\n",
       "    <tr>\n",
       "      <th>2</th>\n",
       "      <td>5.3</td>\n",
       "      <td>121.0</td>\n",
       "    </tr>\n",
       "    <tr>\n",
       "      <th>3</th>\n",
       "      <td>7.4</td>\n",
       "      <td>132.0</td>\n",
       "    </tr>\n",
       "    <tr>\n",
       "      <th>4</th>\n",
       "      <td>5.8</td>\n",
       "      <td>142.0</td>\n",
       "    </tr>\n",
       "    <tr>\n",
       "      <th>...</th>\n",
       "      <td>...</td>\n",
       "      <td>...</td>\n",
       "    </tr>\n",
       "    <tr>\n",
       "      <th>95</th>\n",
       "      <td>4.3</td>\n",
       "      <td>200.0</td>\n",
       "    </tr>\n",
       "    <tr>\n",
       "      <th>96</th>\n",
       "      <td>4.4</td>\n",
       "      <td>42.0</td>\n",
       "    </tr>\n",
       "    <tr>\n",
       "      <th>97</th>\n",
       "      <td>6.7</td>\n",
       "      <td>182.0</td>\n",
       "    </tr>\n",
       "    <tr>\n",
       "      <th>98</th>\n",
       "      <td>6.3</td>\n",
       "      <td>103.0</td>\n",
       "    </tr>\n",
       "    <tr>\n",
       "      <th>99</th>\n",
       "      <td>6.2</td>\n",
       "      <td>113.0</td>\n",
       "    </tr>\n",
       "  </tbody>\n",
       "</table>\n",
       "<p>100 rows × 2 columns</p>\n",
       "</div>"
      ],
      "text/plain": [
       "    cgpa     iq\n",
       "0    6.8  123.0\n",
       "1    5.9  106.0\n",
       "2    5.3  121.0\n",
       "3    7.4  132.0\n",
       "4    5.8  142.0\n",
       "..   ...    ...\n",
       "95   4.3  200.0\n",
       "96   4.4   42.0\n",
       "97   6.7  182.0\n",
       "98   6.3  103.0\n",
       "99   6.2  113.0\n",
       "\n",
       "[100 rows x 2 columns]"
      ]
     },
     "execution_count": 5,
     "metadata": {},
     "output_type": "execute_result"
    }
   ],
   "source": [
    "# spliting the data for train and test\n",
    "input=dataset.iloc[:,:2]\n",
    "input"
   ]
  },
  {
   "cell_type": "code",
   "execution_count": 6,
   "id": "e73f651f",
   "metadata": {},
   "outputs": [
    {
     "data": {
      "text/plain": [
       "0     1\n",
       "1     0\n",
       "2     0\n",
       "3     1\n",
       "4     0\n",
       "     ..\n",
       "95    0\n",
       "96    0\n",
       "97    1\n",
       "98    1\n",
       "99    1\n",
       "Name: placement, Length: 100, dtype: int64"
      ]
     },
     "execution_count": 6,
     "metadata": {},
     "output_type": "execute_result"
    }
   ],
   "source": [
    "label=dataset.iloc[:,-1]\n",
    "label"
   ]
  },
  {
   "cell_type": "code",
   "execution_count": 7,
   "id": "f5c699e9",
   "metadata": {},
   "outputs": [],
   "source": [
    "# split the data into train and test\n",
    "from sklearn.model_selection import train_test_split\n",
    "train_input,test_input,train_label,test_label=train_test_split(input,label,test_size=0.10)"
   ]
  },
  {
   "cell_type": "code",
   "execution_count": 8,
   "id": "27c0dda4",
   "metadata": {},
   "outputs": [
    {
     "data": {
      "text/plain": [
       "(    cgpa     iq\n",
       " 72   7.3  116.0\n",
       " 24   4.7  121.0\n",
       " 16   5.2  224.0\n",
       " 80   4.9  196.0\n",
       " 54   6.4  141.0\n",
       " ..   ...    ...\n",
       " 28   5.2   90.0\n",
       " 73   4.9   61.0\n",
       " 6    5.7  143.0\n",
       " 21   7.1  151.0\n",
       " 56   6.1   65.0\n",
       " \n",
       " [90 rows x 2 columns],\n",
       "     cgpa     iq\n",
       " 58   8.0   79.0\n",
       " 94   4.7   52.0\n",
       " 27   6.0  124.0\n",
       " 61   7.3  137.0\n",
       " 82   6.5   37.0\n",
       " 3    7.4  132.0\n",
       " 47   5.2  161.0\n",
       " 79   6.5   90.0\n",
       " 92   5.2  110.0\n",
       " 70   6.3  127.0,\n",
       " 72    1\n",
       " 24    0\n",
       " 16    0\n",
       " 80    0\n",
       " 54    1\n",
       "      ..\n",
       " 28    0\n",
       " 73    0\n",
       " 6     0\n",
       " 21    1\n",
       " 56    0\n",
       " Name: placement, Length: 90, dtype: int64,\n",
       " 58    1\n",
       " 94    0\n",
       " 27    1\n",
       " 61    1\n",
       " 82    1\n",
       " 3     1\n",
       " 47    0\n",
       " 79    1\n",
       " 92    0\n",
       " 70    1\n",
       " Name: placement, dtype: int64)"
      ]
     },
     "execution_count": 8,
     "metadata": {},
     "output_type": "execute_result"
    }
   ],
   "source": [
    "train_input,test_input,train_label,test_label"
   ]
  },
  {
   "cell_type": "code",
   "execution_count": 10,
   "id": "49c87aee",
   "metadata": {},
   "outputs": [],
   "source": [
    "# scale the value in -1 to 1 range i.e normalization\n",
    "from sklearn.preprocessing import StandardScaler\n",
    "scaler=StandardScaler()"
   ]
  },
  {
   "cell_type": "code",
   "execution_count": 11,
   "id": "c325e7f7",
   "metadata": {},
   "outputs": [
    {
     "data": {
      "text/plain": [
       "array([[ 0.82442786,  1.88599643],\n",
       "       [-1.14166162, -1.83037723],\n",
       "       [ 0.73894571,  0.36910922],\n",
       "       [-0.20135796,  0.44495358],\n",
       "       [ 2.10666013, -0.1112384 ],\n",
       "       [-0.71425087, -0.36405293],\n",
       "       [-0.71425087,  0.19213905],\n",
       "       [-0.28684011,  0.19213905],\n",
       "       [ 0.48249926,  0.34382777],\n",
       "       [ 0.31153495, -0.21236421],\n",
       "       [ 0.82442786, -1.52699979],\n",
       "       [ 0.3970171 , -2.20959903],\n",
       "       [-1.14166162, -0.94552636],\n",
       "       [ 1.93569583,  1.10227137],\n",
       "       [-0.71425087,  0.9253012 ],\n",
       "       [-0.54328656,  0.26798341],\n",
       "       [-0.03039365, -2.0073474 ],\n",
       "       [ 0.3970171 , -0.869682  ],\n",
       "       [ 0.2260528 , -0.5410231 ],\n",
       "       [ 1.33732077, -0.89496345],\n",
       "       [-0.88521517, -1.55228124],\n",
       "       [-0.03039365, -0.01011258],\n",
       "       [-0.97069732,  0.67248666],\n",
       "       [-1.48359023,  1.91127788],\n",
       "       [-0.62876871, -0.08595694],\n",
       "       [ 0.65346356, -0.03539403],\n",
       "       [-1.05617947,  0.9758641 ],\n",
       "       [ 1.25183862, -1.60284415],\n",
       "       [-1.05617947, -0.31349002],\n",
       "       [ 0.0550885 ,  0.19213905],\n",
       "       [-1.39810808,  0.62192375],\n",
       "       [-0.97069732,  0.24270195],\n",
       "       [ 0.82442786, -0.31349002],\n",
       "       [ 0.82442786,  0.36910922],\n",
       "       [ 0.73894571, -0.71799328],\n",
       "       [-0.28684011,  0.47023503],\n",
       "       [ 0.82442786,  1.27924154],\n",
       "       [-0.20135796,  1.05170846],\n",
       "       [ 1.08087432, -0.21236421],\n",
       "       [ 1.67924938, -1.14777799],\n",
       "       [ 0.90991001, -1.93150304],\n",
       "       [-0.97069732,  0.77361248],\n",
       "       [-1.14166162, -0.08595694],\n",
       "       [ 1.25183862,  0.14157614],\n",
       "       [ 0.0550885 , -0.5410231 ],\n",
       "       [ 0.48249926, -0.1112384 ],\n",
       "       [-0.62876871, -0.26292712],\n",
       "       [ 0.3970171 ,  0.90001974],\n",
       "       [-0.88521517, -0.84440054],\n",
       "       [-2.16744744,  2.74556584],\n",
       "       [-1.39810808, -2.08319176],\n",
       "       [ 0.14057065, -0.28820857],\n",
       "       [-1.74003668, -1.2489038 ],\n",
       "       [-0.79973302,  1.304523  ],\n",
       "       [ 0.90991001,  0.67248666],\n",
       "       [ 1.25183862,  0.84945684],\n",
       "       [-0.97069732, -1.60284415],\n",
       "       [-1.05617947,  1.12755282],\n",
       "       [-0.79973302,  0.09101323],\n",
       "       [ 0.65346356,  0.41967213],\n",
       "       [ 0.0550885 , -1.50171833],\n",
       "       [ 0.2260528 ,  0.09101323],\n",
       "       [ 1.16635647,  0.19213905],\n",
       "       [ 0.73894571,  0.34382777],\n",
       "       [-0.88521517, -0.1618013 ],\n",
       "       [ 0.31153495,  0.41967213],\n",
       "       [-0.54328656, -0.26292712],\n",
       "       [-1.82551883, -0.38933438],\n",
       "       [ 0.56798141,  0.74833102],\n",
       "       [-0.71425087, -0.869682  ],\n",
       "       [-0.28684011,  0.39439067],\n",
       "       [ 1.08087432,  0.31854631],\n",
       "       [ 1.08087432, -0.97080781],\n",
       "       [ 0.3970171 ,  0.14157614],\n",
       "       [ 0.56798141,  1.45621172],\n",
       "       [ 1.08087432, -1.88094014],\n",
       "       [ 1.50828507, -0.26292712],\n",
       "       [ 0.65346356, -0.31349002],\n",
       "       [-0.71425087,  2.51803276],\n",
       "       [-0.03039365,  0.62192375],\n",
       "       [ 1.76473153,  0.62192375],\n",
       "       [-2.33841174,  1.48149317],\n",
       "       [-0.28684011,  1.12755282],\n",
       "       [-1.05617947,  0.41967213],\n",
       "       [ 0.2260528 ,  0.06573178],\n",
       "       [-0.11587581, -0.46517874],\n",
       "       [ 1.76473153,  1.05170846],\n",
       "       [-1.74003668, -0.61686746],\n",
       "       [-0.54328656, -0.43989729],\n",
       "       [ 1.33732077,  0.09101323]])"
      ]
     },
     "execution_count": 11,
     "metadata": {},
     "output_type": "execute_result"
    }
   ],
   "source": [
    "train_input=scaler.fit_transform(train_input)\n",
    "train_input"
   ]
  },
  {
   "cell_type": "code",
   "execution_count": 12,
   "id": "1844e245",
   "metadata": {},
   "outputs": [
    {
     "data": {
      "text/plain": [
       "array([[-1.22714377,  0.54607939],\n",
       "       [-0.79973302, -1.47643688],\n",
       "       [-0.03039365, -1.47643688],\n",
       "       [-0.97069732, -0.1112384 ],\n",
       "       [-0.97069732,  1.81015207],\n",
       "       [ 0.0550885 , -1.09721508],\n",
       "       [ 0.65346356, -0.869682  ],\n",
       "       [-0.03039365, -0.56630456],\n",
       "       [-0.54328656,  0.36910922],\n",
       "       [ 0.0550885 ,  0.79889393]])"
      ]
     },
     "execution_count": 12,
     "metadata": {},
     "output_type": "execute_result"
    }
   ],
   "source": [
    "test_input=scaler.transform(test_input)\n",
    "test_input"
   ]
  },
  {
   "cell_type": "code",
   "execution_count": 11,
   "id": "97be4c76",
   "metadata": {},
   "outputs": [
    {
     "data": {
      "text/plain": [
       "array([[  7.3, 116. ],\n",
       "       [  4.7, 121. ],\n",
       "       [  5.2, 224. ],\n",
       "       [  4.9, 196. ],\n",
       "       [  6.4, 141. ],\n",
       "       [  4.9, 134. ],\n",
       "       [  4.3, 200. ],\n",
       "       [  6.2, 113. ],\n",
       "       [  5.7, 169. ],\n",
       "       [  6. ,  66. ],\n",
       "       [  4.8, 169. ],\n",
       "       [  6.3, 128. ],\n",
       "       [  6.1, 132. ],\n",
       "       [  4.4,  42. ],\n",
       "       [  5.7, 140. ],\n",
       "       [  7.8, 114. ],\n",
       "       [  4.9, 151. ],\n",
       "       [  5. , 118. ],\n",
       "       [  6.8, 123. ],\n",
       "       [  5.1, 128. ],\n",
       "       [  6.8, 112. ],\n",
       "       [  6.1,  81. ],\n",
       "       [  6.3, 103. ],\n",
       "       [  6.4, 116. ],\n",
       "       [  5.4, 107. ],\n",
       "       [  6.9,  96. ],\n",
       "       [  5.1,  66. ],\n",
       "       [  5.8, 166. ],\n",
       "       [  7. ,  64. ],\n",
       "       [  5.4, 139. ],\n",
       "       [  6.8, 141. ],\n",
       "       [  4.8, 163. ],\n",
       "       [  3.9, 109. ],\n",
       "       [  6.5, 160. ],\n",
       "       [  6.1, 103. ],\n",
       "       [  7.1,  48. ],\n",
       "       [  7. , 139. ],\n",
       "       [  6.5, 130. ],\n",
       "       [  6.6, 120. ],\n",
       "       [  7.3,  86. ],\n",
       "       [  7. , 199. ],\n",
       "       [  4.7,  87. ],\n",
       "       [  5.3, 114. ],\n",
       "       [  4.8, 112. ],\n",
       "       [  7.5, 130. ],\n",
       "       [  7. , 175. ],\n",
       "       [  5.2, 132. ],\n",
       "       [  6.1, 156. ],\n",
       "       [  5.8, 142. ],\n",
       "       [  5. ,  63. ],\n",
       "       [  7.5,  61. ],\n",
       "       [  5.4, 135. ],\n",
       "       [  5.4, 114. ],\n",
       "       [  4.6, 146. ],\n",
       "       [  5.3, 121. ],\n",
       "       [  4.8, 141. ],\n",
       "       [  3.5, 233. ],\n",
       "       [  6. ,  45. ],\n",
       "       [  8.3, 168. ],\n",
       "       [  6. , 102. ],\n",
       "       [  7.3,  50. ],\n",
       "       [  8.5, 120. ],\n",
       "       [  6.9, 138. ],\n",
       "       [  5.7, 132. ],\n",
       "       [  4.4, 149. ],\n",
       "       [  4.9, 120. ],\n",
       "       [  6.7, 154. ],\n",
       "       [  5.9, 106. ],\n",
       "       [  4.9, 155. ],\n",
       "       [  7.6, 128. ],\n",
       "       [  6.8,  90. ],\n",
       "       [  8.1, 149. ],\n",
       "       [  3.3, 183. ],\n",
       "       [  7.6,  89. ],\n",
       "       [  8.1, 166. ],\n",
       "       [  6.7, 182. ],\n",
       "       [  6.9, 139. ],\n",
       "       [  7.5, 158. ],\n",
       "       [  4. , 100. ],\n",
       "       [  5. ,  91. ],\n",
       "       [  4. ,  75. ],\n",
       "       [  6. , 149. ],\n",
       "       [  6.6, 138. ],\n",
       "       [  7. , 112. ],\n",
       "       [  5.1, 176. ],\n",
       "       [  5.2,  90. ],\n",
       "       [  4.9,  61. ],\n",
       "       [  5.7, 143. ],\n",
       "       [  7.1, 151. ],\n",
       "       [  6.1,  65. ]])"
      ]
     },
     "execution_count": 11,
     "metadata": {},
     "output_type": "execute_result"
    }
   ],
   "source": [
    "train_input=train_input.values\n",
    "train_input"
   ]
  },
  {
   "cell_type": "code",
   "execution_count": 17,
   "id": "7a895613",
   "metadata": {},
   "outputs": [
    {
     "data": {
      "text/plain": [
       "array([1, 0, 0, 0, 1, 0, 0, 1, 0, 1, 0, 1, 1, 0, 0, 1, 0, 0, 1, 0, 1, 0,\n",
       "       1, 1, 0, 1, 0, 1, 1, 0, 1, 0, 0, 1, 0, 1, 1, 1, 1, 1, 1, 0, 0, 0,\n",
       "       1, 1, 0, 0, 0, 0, 1, 0, 0, 0, 0, 0, 0, 1, 1, 0, 1, 1, 1, 1, 0, 0,\n",
       "       1, 0, 0, 1, 1, 1, 0, 1, 1, 1, 1, 1, 0, 0, 0, 0, 1, 1, 0, 0, 0, 0,\n",
       "       1, 0], dtype=int64)"
      ]
     },
     "execution_count": 17,
     "metadata": {},
     "output_type": "execute_result"
    }
   ],
   "source": [
    "train_label=train_label.values\n",
    "train_label"
   ]
  },
  {
   "cell_type": "code",
   "execution_count": 18,
   "id": "7bf48e71",
   "metadata": {},
   "outputs": [],
   "source": [
    "# train the model\n",
    "from sklearn.linear_model import LogisticRegression"
   ]
  },
  {
   "cell_type": "code",
   "execution_count": 19,
   "id": "d5703f39",
   "metadata": {},
   "outputs": [],
   "source": [
    "# creating the object of LogisticRegression class\n",
    "obj=LogisticRegression()"
   ]
  },
  {
   "cell_type": "code",
   "execution_count": 11,
   "id": "c1e25491",
   "metadata": {},
   "outputs": [
    {
     "data": {
      "text/plain": [
       "array([[  3.9, 109. ],\n",
       "       [  3.3, 183. ],\n",
       "       [  6.2, 113. ],\n",
       "       [  7.5,  61. ],\n",
       "       [  6. , 102. ],\n",
       "       [  4.4,  42. ],\n",
       "       [  6.6, 120. ],\n",
       "       [  5. , 118. ],\n",
       "       [  5.8, 142. ],\n",
       "       [  6.4, 116. ],\n",
       "       [  7.3, 137. ],\n",
       "       [  6.3, 127. ],\n",
       "       [  4.7,  87. ],\n",
       "       [  6.5, 130. ],\n",
       "       [  4. , 100. ],\n",
       "       [  4.8, 112. ],\n",
       "       [  4.7,  52. ],\n",
       "       [  4.3, 200. ],\n",
       "       [  6. ,  45. ],\n",
       "       [  5.2, 224. ],\n",
       "       [  6.4, 141. ],\n",
       "       [  6.1,  65. ],\n",
       "       [  4.9, 155. ],\n",
       "       [  7.3,  50. ],\n",
       "       [  6.3, 103. ],\n",
       "       [  5.7, 140. ],\n",
       "       [  7.6,  89. ],\n",
       "       [  3.5, 233. ],\n",
       "       [  8.3, 168. ],\n",
       "       [  7.4, 132. ],\n",
       "       [  6.8,  90. ],\n",
       "       [  4. ,  75. ],\n",
       "       [  6.8, 141. ],\n",
       "       [  5.7, 169. ],\n",
       "       [  5. ,  63. ],\n",
       "       [  6.3, 128. ],\n",
       "       [  6.9,  96. ],\n",
       "       [  5.4, 114. ],\n",
       "       [  4.9, 134. ],\n",
       "       [  7.1, 151. ],\n",
       "       [  8.5, 120. ],\n",
       "       [  5.1, 176. ],\n",
       "       [  6.7, 182. ],\n",
       "       [  7.3,  86. ],\n",
       "       [  4.9,  61. ],\n",
       "       [  4.8, 163. ],\n",
       "       [  7.5, 130. ],\n",
       "       [  6.1, 156. ],\n",
       "       [  6.8, 112. ],\n",
       "       [  4.4, 149. ],\n",
       "       [  4.9, 120. ],\n",
       "       [  5.4, 135. ],\n",
       "       [  6.6, 138. ],\n",
       "       [  8.1, 166. ],\n",
       "       [  7.3, 116. ],\n",
       "       [  8.1, 149. ],\n",
       "       [  5.1, 128. ],\n",
       "       [  7.6, 128. ],\n",
       "       [  6. , 124. ],\n",
       "       [  5.2, 132. ],\n",
       "       [  7.8, 114. ],\n",
       "       [  6. ,  66. ],\n",
       "       [  4.9, 196. ],\n",
       "       [  6.1, 103. ],\n",
       "       [  5.3, 114. ],\n",
       "       [  5.9, 106. ],\n",
       "       [  6.5, 160. ],\n",
       "       [  5.4, 139. ],\n",
       "       [  7. , 112. ],\n",
       "       [  6.8, 123. ],\n",
       "       [  7. , 199. ],\n",
       "       [  4.8, 141. ],\n",
       "       [  5.3, 121. ],\n",
       "       [  4.6, 146. ],\n",
       "       [  4.8, 169. ],\n",
       "       [  5. ,  91. ],\n",
       "       [  5.2, 110. ],\n",
       "       [  6.9, 138. ],\n",
       "       [  5.7, 143. ],\n",
       "       [  6.5,  37. ],\n",
       "       [  5.4, 107. ],\n",
       "       [  7. , 139. ],\n",
       "       [  5.2,  90. ],\n",
       "       [  5.7, 132. ],\n",
       "       [  7.1,  48. ],\n",
       "       [  6. , 149. ],\n",
       "       [  5.1,  66. ],\n",
       "       [  7.5, 158. ],\n",
       "       [  6.7, 154. ],\n",
       "       [  6.9, 139. ]])"
      ]
     },
     "execution_count": 11,
     "metadata": {},
     "output_type": "execute_result"
    }
   ],
   "source": [
    "train_input=train_input.values\n",
    "train_input"
   ]
  },
  {
   "cell_type": "code",
   "execution_count": 20,
   "id": "5c4497b3",
   "metadata": {},
   "outputs": [
    {
     "data": {
      "text/plain": [
       "(90, 2)"
      ]
     },
     "execution_count": 20,
     "metadata": {},
     "output_type": "execute_result"
    }
   ],
   "source": [
    "train_input.shape"
   ]
  },
  {
   "cell_type": "code",
   "execution_count": 20,
   "id": "e0045f37",
   "metadata": {},
   "outputs": [
    {
     "data": {
      "text/html": [
       "<style>#sk-container-id-1 {color: black;background-color: white;}#sk-container-id-1 pre{padding: 0;}#sk-container-id-1 div.sk-toggleable {background-color: white;}#sk-container-id-1 label.sk-toggleable__label {cursor: pointer;display: block;width: 100%;margin-bottom: 0;padding: 0.3em;box-sizing: border-box;text-align: center;}#sk-container-id-1 label.sk-toggleable__label-arrow:before {content: \"▸\";float: left;margin-right: 0.25em;color: #696969;}#sk-container-id-1 label.sk-toggleable__label-arrow:hover:before {color: black;}#sk-container-id-1 div.sk-estimator:hover label.sk-toggleable__label-arrow:before {color: black;}#sk-container-id-1 div.sk-toggleable__content {max-height: 0;max-width: 0;overflow: hidden;text-align: left;background-color: #f0f8ff;}#sk-container-id-1 div.sk-toggleable__content pre {margin: 0.2em;color: black;border-radius: 0.25em;background-color: #f0f8ff;}#sk-container-id-1 input.sk-toggleable__control:checked~div.sk-toggleable__content {max-height: 200px;max-width: 100%;overflow: auto;}#sk-container-id-1 input.sk-toggleable__control:checked~label.sk-toggleable__label-arrow:before {content: \"▾\";}#sk-container-id-1 div.sk-estimator input.sk-toggleable__control:checked~label.sk-toggleable__label {background-color: #d4ebff;}#sk-container-id-1 div.sk-label input.sk-toggleable__control:checked~label.sk-toggleable__label {background-color: #d4ebff;}#sk-container-id-1 input.sk-hidden--visually {border: 0;clip: rect(1px 1px 1px 1px);clip: rect(1px, 1px, 1px, 1px);height: 1px;margin: -1px;overflow: hidden;padding: 0;position: absolute;width: 1px;}#sk-container-id-1 div.sk-estimator {font-family: monospace;background-color: #f0f8ff;border: 1px dotted black;border-radius: 0.25em;box-sizing: border-box;margin-bottom: 0.5em;}#sk-container-id-1 div.sk-estimator:hover {background-color: #d4ebff;}#sk-container-id-1 div.sk-parallel-item::after {content: \"\";width: 100%;border-bottom: 1px solid gray;flex-grow: 1;}#sk-container-id-1 div.sk-label:hover label.sk-toggleable__label {background-color: #d4ebff;}#sk-container-id-1 div.sk-serial::before {content: \"\";position: absolute;border-left: 1px solid gray;box-sizing: border-box;top: 0;bottom: 0;left: 50%;z-index: 0;}#sk-container-id-1 div.sk-serial {display: flex;flex-direction: column;align-items: center;background-color: white;padding-right: 0.2em;padding-left: 0.2em;position: relative;}#sk-container-id-1 div.sk-item {position: relative;z-index: 1;}#sk-container-id-1 div.sk-parallel {display: flex;align-items: stretch;justify-content: center;background-color: white;position: relative;}#sk-container-id-1 div.sk-item::before, #sk-container-id-1 div.sk-parallel-item::before {content: \"\";position: absolute;border-left: 1px solid gray;box-sizing: border-box;top: 0;bottom: 0;left: 50%;z-index: -1;}#sk-container-id-1 div.sk-parallel-item {display: flex;flex-direction: column;z-index: 1;position: relative;background-color: white;}#sk-container-id-1 div.sk-parallel-item:first-child::after {align-self: flex-end;width: 50%;}#sk-container-id-1 div.sk-parallel-item:last-child::after {align-self: flex-start;width: 50%;}#sk-container-id-1 div.sk-parallel-item:only-child::after {width: 0;}#sk-container-id-1 div.sk-dashed-wrapped {border: 1px dashed gray;margin: 0 0.4em 0.5em 0.4em;box-sizing: border-box;padding-bottom: 0.4em;background-color: white;}#sk-container-id-1 div.sk-label label {font-family: monospace;font-weight: bold;display: inline-block;line-height: 1.2em;}#sk-container-id-1 div.sk-label-container {text-align: center;}#sk-container-id-1 div.sk-container {/* jupyter's `normalize.less` sets `[hidden] { display: none; }` but bootstrap.min.css set `[hidden] { display: none !important; }` so we also need the `!important` here to be able to override the default hidden behavior on the sphinx rendered scikit-learn.org. See: https://github.com/scikit-learn/scikit-learn/issues/21755 */display: inline-block !important;position: relative;}#sk-container-id-1 div.sk-text-repr-fallback {display: none;}</style><div id=\"sk-container-id-1\" class=\"sk-top-container\"><div class=\"sk-text-repr-fallback\"><pre>LogisticRegression()</pre><b>In a Jupyter environment, please rerun this cell to show the HTML representation or trust the notebook. <br />On GitHub, the HTML representation is unable to render, please try loading this page with nbviewer.org.</b></div><div class=\"sk-container\" hidden><div class=\"sk-item\"><div class=\"sk-estimator sk-toggleable\"><input class=\"sk-toggleable__control sk-hidden--visually\" id=\"sk-estimator-id-1\" type=\"checkbox\" checked><label for=\"sk-estimator-id-1\" class=\"sk-toggleable__label sk-toggleable__label-arrow\">LogisticRegression</label><div class=\"sk-toggleable__content\"><pre>LogisticRegression()</pre></div></div></div></div></div>"
      ],
      "text/plain": [
       "LogisticRegression()"
      ]
     },
     "execution_count": 20,
     "metadata": {},
     "output_type": "execute_result"
    }
   ],
   "source": [
    "obj.fit(train_input,train_label)"
   ]
  },
  {
   "cell_type": "code",
   "execution_count": 23,
   "id": "d1629930",
   "metadata": {},
   "outputs": [
    {
     "data": {
      "text/plain": [
       "array([[  8. ,  79. ],\n",
       "       [  4.7,  52. ],\n",
       "       [  6. , 124. ],\n",
       "       [  7.3, 137. ],\n",
       "       [  6.5,  37. ],\n",
       "       [  7.4, 132. ],\n",
       "       [  5.2, 161. ],\n",
       "       [  6.5,  90. ],\n",
       "       [  5.2, 110. ],\n",
       "       [  6.3, 127. ]])"
      ]
     },
     "execution_count": 23,
     "metadata": {},
     "output_type": "execute_result"
    }
   ],
   "source": [
    "test_input=test_input.values\n",
    "test_input"
   ]
  },
  {
   "cell_type": "code",
   "execution_count": 24,
   "id": "7daff399",
   "metadata": {},
   "outputs": [
    {
     "data": {
      "text/plain": [
       "array([1, 0, 0, 1, 1, 1, 0, 1, 0, 1], dtype=int64)"
      ]
     },
     "execution_count": 24,
     "metadata": {},
     "output_type": "execute_result"
    }
   ],
   "source": [
    "model_pred=obj.predict(test_input)\n",
    "model_pred"
   ]
  },
  {
   "cell_type": "code",
   "execution_count": 26,
   "id": "82200eeb",
   "metadata": {},
   "outputs": [
    {
     "data": {
      "text/plain": [
       "array([1, 0, 1, 1, 1, 1, 0, 1, 0, 1], dtype=int64)"
      ]
     },
     "execution_count": 26,
     "metadata": {},
     "output_type": "execute_result"
    }
   ],
   "source": [
    "test_label.values"
   ]
  },
  {
   "cell_type": "code",
   "execution_count": 27,
   "id": "0f240481",
   "metadata": {},
   "outputs": [
    {
     "data": {
      "text/plain": [
       "0.9"
      ]
     },
     "execution_count": 27,
     "metadata": {},
     "output_type": "execute_result"
    }
   ],
   "source": [
    "from sklearn.metrics import accuracy_score\n",
    "accuracy_score(test_label,model_pred)"
   ]
  },
  {
   "cell_type": "code",
   "execution_count": 28,
   "id": "adcb08f6",
   "metadata": {},
   "outputs": [
    {
     "name": "stdout",
     "output_type": "stream",
     "text": [
      "Defaulting to user installation because normal site-packages is not writeable\n",
      "Collecting mlxtend\n",
      "  Downloading mlxtend-0.22.0-py2.py3-none-any.whl (1.4 MB)\n",
      "     ---------------------------------------- 1.4/1.4 MB 2.3 MB/s eta 0:00:00\n",
      "Requirement already satisfied: matplotlib>=3.0.0 in c:\\users\\dell\\appdata\\roaming\\python\\python310\\site-packages (from mlxtend) (3.5.2)\n",
      "Requirement already satisfied: numpy>=1.16.2 in c:\\users\\dell\\appdata\\roaming\\python\\python310\\site-packages (from mlxtend) (1.23.0)\n",
      "Requirement already satisfied: joblib>=0.13.2 in c:\\users\\dell\\appdata\\roaming\\python\\python310\\site-packages (from mlxtend) (1.1.0)\n",
      "Requirement already satisfied: scikit-learn>=1.0.2 in c:\\users\\dell\\appdata\\roaming\\python\\python310\\site-packages (from mlxtend) (1.1.1)\n",
      "Requirement already satisfied: setuptools in c:\\program files\\python310\\lib\\site-packages (from mlxtend) (58.1.0)\n",
      "Requirement already satisfied: scipy>=1.2.1 in c:\\users\\dell\\appdata\\roaming\\python\\python310\\site-packages (from mlxtend) (1.8.1)\n",
      "Requirement already satisfied: pandas>=0.24.2 in c:\\users\\dell\\appdata\\roaming\\python\\python310\\site-packages (from mlxtend) (1.4.3)\n",
      "Requirement already satisfied: fonttools>=4.22.0 in c:\\users\\dell\\appdata\\roaming\\python\\python310\\site-packages (from matplotlib>=3.0.0->mlxtend) (4.33.3)\n",
      "Requirement already satisfied: pyparsing>=2.2.1 in c:\\users\\dell\\appdata\\roaming\\python\\python310\\site-packages (from matplotlib>=3.0.0->mlxtend) (3.0.9)\n",
      "Requirement already satisfied: packaging>=20.0 in c:\\users\\dell\\appdata\\roaming\\python\\python310\\site-packages (from matplotlib>=3.0.0->mlxtend) (21.3)\n",
      "Requirement already satisfied: cycler>=0.10 in c:\\users\\dell\\appdata\\roaming\\python\\python310\\site-packages (from matplotlib>=3.0.0->mlxtend) (0.11.0)\n",
      "Requirement already satisfied: pillow>=6.2.0 in c:\\users\\dell\\appdata\\roaming\\python\\python310\\site-packages (from matplotlib>=3.0.0->mlxtend) (9.2.0)\n",
      "Requirement already satisfied: kiwisolver>=1.0.1 in c:\\users\\dell\\appdata\\roaming\\python\\python310\\site-packages (from matplotlib>=3.0.0->mlxtend) (1.4.3)\n",
      "Requirement already satisfied: python-dateutil>=2.7 in c:\\users\\dell\\appdata\\roaming\\python\\python310\\site-packages (from matplotlib>=3.0.0->mlxtend) (2.8.2)\n",
      "Requirement already satisfied: pytz>=2020.1 in c:\\users\\dell\\appdata\\roaming\\python\\python310\\site-packages (from pandas>=0.24.2->mlxtend) (2022.1)\n",
      "Requirement already satisfied: threadpoolctl>=2.0.0 in c:\\users\\dell\\appdata\\roaming\\python\\python310\\site-packages (from scikit-learn>=1.0.2->mlxtend) (3.1.0)\n",
      "Requirement already satisfied: six>=1.5 in c:\\users\\dell\\appdata\\roaming\\python\\python310\\site-packages (from python-dateutil>=2.7->matplotlib>=3.0.0->mlxtend) (1.16.0)\n",
      "Installing collected packages: mlxtend\n",
      "Successfully installed mlxtend-0.22.0\n"
     ]
    },
    {
     "name": "stderr",
     "output_type": "stream",
     "text": [
      "\n",
      "[notice] A new release of pip is available: 23.0.1 -> 23.1.2\n",
      "[notice] To update, run: python.exe -m pip install --upgrade pip\n"
     ]
    }
   ],
   "source": [
    "!pip install mlxtend"
   ]
  },
  {
   "cell_type": "code",
   "execution_count": 28,
   "id": "6ad246d0",
   "metadata": {},
   "outputs": [],
   "source": [
    "from mlxtend.plotting import plot_decision_regions"
   ]
  },
  {
   "cell_type": "code",
   "execution_count": 30,
   "id": "3e67e483",
   "metadata": {},
   "outputs": [
    {
     "data": {
      "text/plain": [
       "<AxesSubplot:>"
      ]
     },
     "execution_count": 30,
     "metadata": {},
     "output_type": "execute_result"
    },
    {
     "data": {
      "image/png": "[encoded data removed]",
      "text/plain": [
       "<Figure size 432x288 with 1 Axes>"
      ]
     },
     "metadata": {
      "needs_background": "light"
     },
     "output_type": "display_data"
    }
   ],
   "source": [
    "# plotting the model behaviour in our dataset\n",
    "plot_decision_regions(train_input, train_label, clf=obj, legend=2)"
   ]
  },
  {
   "cell_type": "code",
   "execution_count": 31,
   "id": "d487a838",
   "metadata": {},
   "outputs": [],
   "source": [
    "# transform model into the file for transfer in any system\n",
    "import pickle"
   ]
  },
  {
   "cell_type": "code",
   "execution_count": 32,
   "id": "08fb7ca7",
   "metadata": {},
   "outputs": [],
   "source": [
    "pickle.dump(obj,open('model_place.pkl','wb'))"
   ]
  },
  {
   "cell_type": "code",
   "execution_count": 40,
   "id": "95ceeabb",
   "metadata": {},
   "outputs": [
    {
     "data": {
      "text/html": [
       "<div>\n",
       "<style scoped>\n",
       "    .dataframe tbody tr th:only-of-type {\n",
       "        vertical-align: middle;\n",
       "    }\n",
       "\n",
       "    .dataframe tbody tr th {\n",
       "        vertical-align: top;\n",
       "    }\n",
       "\n",
       "    .dataframe thead th {\n",
       "        text-align: right;\n",
       "    }\n",
       "</style>\n",
       "<table border=\"1\" class=\"dataframe\">\n",
       "  <thead>\n",
       "    <tr style=\"text-align: right;\">\n",
       "      <th></th>\n",
       "      <th>cgpa</th>\n",
       "      <th>iq</th>\n",
       "      <th>placement</th>\n",
       "    </tr>\n",
       "  </thead>\n",
       "  <tbody>\n",
       "    <tr>\n",
       "      <th>73</th>\n",
       "      <td>4.9</td>\n",
       "      <td>61.0</td>\n",
       "      <td>0</td>\n",
       "    </tr>\n",
       "    <tr>\n",
       "      <th>89</th>\n",
       "      <td>4.9</td>\n",
       "      <td>151.0</td>\n",
       "      <td>0</td>\n",
       "    </tr>\n",
       "    <tr>\n",
       "      <th>93</th>\n",
       "      <td>6.8</td>\n",
       "      <td>112.0</td>\n",
       "      <td>1</td>\n",
       "    </tr>\n",
       "    <tr>\n",
       "      <th>11</th>\n",
       "      <td>6.9</td>\n",
       "      <td>138.0</td>\n",
       "      <td>1</td>\n",
       "    </tr>\n",
       "    <tr>\n",
       "      <th>54</th>\n",
       "      <td>6.4</td>\n",
       "      <td>141.0</td>\n",
       "      <td>1</td>\n",
       "    </tr>\n",
       "  </tbody>\n",
       "</table>\n",
       "</div>"
      ],
      "text/plain": [
       "    cgpa     iq  placement\n",
       "73   4.9   61.0          0\n",
       "89   4.9  151.0          0\n",
       "93   6.8  112.0          1\n",
       "11   6.9  138.0          1\n",
       "54   6.4  141.0          1"
      ]
     },
     "execution_count": 40,
     "metadata": {},
     "output_type": "execute_result"
    }
   ],
   "source": [
    "check=dataset.sample(5)\n",
    "check"
   ]
  },
  {
   "cell_type": "code",
   "execution_count": 43,
   "id": "73903ff1",
   "metadata": {},
   "outputs": [],
   "source": [
    "check_model=check.iloc[:,:2].values"
   ]
  },
  {
   "cell_type": "code",
   "execution_count": 44,
   "id": "25895c9f",
   "metadata": {},
   "outputs": [
    {
     "data": {
      "text/plain": [
       "array([0, 0, 1, 1, 1], dtype=int64)"
      ]
     },
     "execution_count": 44,
     "metadata": {},
     "output_type": "execute_result"
    }
   ],
   "source": [
    "obj.predict(check_model)"
   ]
  },
  {
   "cell_type": "code",
   "execution_count": null,
   "id": "a5ef9b25",
   "metadata": {},
   "outputs": [],
   "source": []
  }
 ],
 "metadata": {
  "kernelspec": {
   "display_name": "Python 3 (ipykernel)",
   "language": "python",
   "name": "python3"
  },
  "language_info": {
   "codemirror_mode": {
    "name": "ipython",
    "version": 3
   },
   "file_extension": ".py",
   "mimetype": "text/x-python",
   "name": "python",
   "nbconvert_exporter": "python",
   "pygments_lexer": "ipython3",
   "version": "3.10.5"
  }
 },
 "nbformat": 4,
 "nbformat_minor": 5
}
